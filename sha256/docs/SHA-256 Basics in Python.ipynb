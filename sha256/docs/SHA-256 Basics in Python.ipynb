{
 "cells": [
  {
   "cell_type": "markdown",
   "metadata": {
    "deletable": true,
    "editable": true
   },
   "source": [
    "# Writing SHA-256 in Python\n",
    "\n",
    "SHA-256 has become an incredibly useful cryptographic function. It has the capability to convert any data into a unique 32-byte string (256 bits respectively). The real magic comes from its following two properties.\n",
    "\n",
    "1. Any change in the incoming data will produce a completely new and unique 32-byte string (if two pieces of data can produce the same string it is called a collision and can be an enormous security problem)\n",
    "2. The original data cannot be reproduced from the hash, therefore the function is one directional. This means the hash can be shared freely without any fear of the original data being\n",
    "\n",
    "Go ahead and try below. I guarantee you will not be able to obtain the same key for any two strings. Change a single leter to a capital, add a single comma, or swap two values and you'll get a completely different hash. \n",
    "\n",
    "How (not why, that's worth a post in itself) exactly does the SHA-256 do this? Well, lets make our own SHA-256 function to find out! This post will work through the Python function created which is actually running above.\n",
    "\n",
    "## Preprocessing Data\n",
    "\n",
    "The first thing to do is to create a function that takes in a string and converts it to binary. In this example we'll limit our data to string values for representation sake. With this we can easily convert teach value to it's unicode code point by using Python's `ord()` function and convert this integer to binary by using Python 3's format function."
   ]
  },
  {
   "cell_type": "code",
   "execution_count": 1,
   "metadata": {
    "collapsed": false,
    "deletable": true,
    "editable": true
   },
   "outputs": [
    {
     "name": "stdout",
     "output_type": "stream",
     "text": [
      "String values: ['a', 'b', 'c']\n",
      "Unicode points: [97, 98, 99]\n",
      "Binary values: ['01100001', '01100010', '01100011']\n",
      "Binary data:  011000010110001001100011\n"
     ]
    }
   ],
   "source": [
    "def _str_to_bin(data_string):\n",
    "    \"\"\"Returns the binary representation of a string using unicode (or ASCII)\n",
    "       representation of the string values\n",
    "\n",
    "    args:\n",
    "        data_string (str): Incoming string in unicode/ASCII format\n",
    "\n",
    "    return args:\n",
    "        binary_data (str): Binary representation of the string\n",
    "    \"\"\"\n",
    "    print(\"String values:\", list(data_string))\n",
    "    unicode_points = [ord(char) for char in data_string]\n",
    "    print(\"Unicode points:\", unicode_points)\n",
    "    binary_values = ['{0:08b}'.format(point) for point in unicode_points]\n",
    "    print(\"Binary values:\", binary_values)\n",
    "    binary_data = ''.join(binary_values)\n",
    "    print('Binary data: ', binary_data)\n",
    "    return binary_data\n",
    "\n",
    "binary_data = _str_to_bin('abc')"
   ]
  },
  {
   "cell_type": "markdown",
   "metadata": {
    "collapsed": true,
    "deletable": true,
    "editable": true
   },
   "source": [
    "Now that we have our binary data we need to preprocess it to have it in the correct format for the future SHA-256 functions. This is is achieved with the following three properties.\n",
    "\n",
    "1. A 1 is added to the end of the binary data.\n",
    "2. The length of the binary data (3 x 8 = 24) is appended to the end of the binary blob in a 64 bit number.\n",
    "3. The final 1 and the 64 bit number from 1. and 2. are separated by 0s so that the total length of the binary blob is a multiple of 512.\n",
    "\n",
    "<img class=\"image\" src=\"images/preprocessing-sha-256-data.png\" alt=\"SHA-256 Basics\">\n",
    "\n",
    "The purpose of this step is to have 512 bit blocks which will be used for each step of the SHA-256 process. Furthermore, this 512 bit block will be used in 16 smaller 32 bit blocks for each sub-process of each step. Therefore, for the data to be easily used, and in binary format it is also converted back to int 512 bit tuples each with 16 32-bit integers."
   ]
  },
  {
   "cell_type": "code",
   "execution_count": 22,
   "metadata": {
    "collapsed": false,
    "deletable": true,
    "editable": true
   },
   "outputs": [
    {
     "name": "stdout",
     "output_type": "stream",
     "text": [
      "Binary data: 011000010110001001100011\n",
      "Length: 24 bits\n",
      "24 in 64 bit binary format: 0000000000000000000000000000000000000000000000000000000000011000\n",
      "Padding needed for a 512 bit block: 423 0s\n",
      "Final binary string: 01100001011000100110001110000000000000000000000000000000000000000000000000000000000000000000000000000000000000000000000000000000000000000000000000000000000000000000000000000000000000000000000000000000000000000000000000000000000000000000000000000000000000000000000000000000000000000000000000000000000000000000000000000000000000000000000000000000000000000000000000000000000000000000000000000000000000000000000000000000000000000000000000000000000000000000000000000000000000000000000000000000000000000000000000011000\n",
      "Final data ints for processing:  [(1633837952, 0, 0, 0, 0, 0, 0, 0, 0, 0, 0, 0, 0, 0, 0, 24)]\n"
     ]
    }
   ],
   "source": [
    "def preprocess_data(binary_data):\n",
    "    print(\"Binary data:\", binary_data)\n",
    "    data_length = '{0:064b}'.format(len(binary_data))\n",
    "    print(\"Length:\", len(binary_data), \"bits\")\n",
    "    print(len(binary_data), \"in 64 bit binary format:\", data_length)\n",
    "    padding = '0' * (512 - (len(binary_data) + 1 + 64) % 512)\n",
    "    print(\"Padding needed for a 512 bit block:\", len(padding), \"0s\")\n",
    "    binary_string = binary_data + '1' + padding + data_length\n",
    "    print(\"Final binary string:\", binary_string)\n",
    "    processed_values = [int(binary_string[i:i + 32], 2)\n",
    "                        for i in range(0, len(binary_string), 32)]\n",
    "    output_data = [tuple(processed_values[i:i + 16]) \n",
    "                   for i in range(0, len(processed_values), 16)]\n",
    "    print(\"Final data ints for processing: \", output_data)\n",
    "    return output_data\n",
    "\n",
    "preprocessed_data = preprocess_data(binary_data)"
   ]
  },
  {
   "cell_type": "markdown",
   "metadata": {
    "deletable": true,
    "editable": true
   },
   "source": [
    "## Bitwise Operations Used for SHA-256\n",
    "\n",
    "So far we haven't touched anything to do with the SHA-256 process. The power of SHA-256 comes from two main factors:\n",
    "\n",
    "1. Completely random seed values\n",
    "2. A number of bitwise operations (operations which move 1s and 0s around in a specific manor)\n",
    "\n",
    "The bitwise operations used in SHA-256 are as follows.\n",
    "\n",
    "***Rotate right operation (ROTR)***<br>\n",
    "Rotates the binary data right n units, for example:<br>\n",
    "ROTR(100010, 1) --> 010001<br>\n",
    "ROTR(100010, 2) --> 101000\n",
    "\n",
    "***Shift right operation (SHR)***<br>\n",
    "Same as ROTR, however, data on the right side is lost and the left side is filled with 0s<br>\n",
    "SHR(100010, 1) --> 010001<br>\n",
    "SHR(100010, 2) --> 001000\n",
    "\n",
    "***Choose operation (Ch)***<br>\n",
    "Takes 3 equal length binary values, x, y, and z. For each binary value the operation checks if x is 1 or 0. If x is 1, the value is chosen from y and if x is 0 the value is chosen from z.\n",
    "\n",
    "<pre>\n",
    "```\n",
    "\n",
    "| x      | 1010 |\n",
    "| y      | 0011 |\n",
    "| z      | 1100 |\n",
    "| output | 0110 |\n",
    "\n",
    "```\n",
    "</pre>\n",
    "\n",
    "***Majority operation (Maj)***<br>\n",
    "Takes 3 equal length binary values, x, y, and z. For each binary value the operation checks the total numbers of 1s and 0s in x, y and z. If a majority of the values are 1 the output is 1 for that position and if the majority are 0s the output is 0.\n",
    "\n",
    "<pre>\n",
    "```\n",
    "\n",
    "| x      | 1010 |\n",
    "| y      | 0011 |\n",
    "| z      | 1100 |\n",
    "| output | 1010 |\n",
    "\n",
    "```\n",
    "</pre>\n",
    "\n",
    "## The SHA-256 Seeds\n",
    "\n"
   ]
  }
 ],
 "metadata": {
  "kernelspec": {
   "display_name": "Python 3",
   "language": "python",
   "name": "python3"
  },
  "language_info": {
   "codemirror_mode": {
    "name": "ipython",
    "version": 3
   },
   "file_extension": ".py",
   "mimetype": "text/x-python",
   "name": "python",
   "nbconvert_exporter": "python",
   "pygments_lexer": "ipython3",
   "version": "3.5.2"
  }
 },
 "nbformat": 4,
 "nbformat_minor": 2
}
