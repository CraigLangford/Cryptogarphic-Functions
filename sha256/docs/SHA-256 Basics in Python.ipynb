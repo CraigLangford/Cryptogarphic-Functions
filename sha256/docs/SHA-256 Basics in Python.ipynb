{
 "cells": [
  {
   "cell_type": "markdown",
   "metadata": {
    "deletable": true,
    "editable": true
   },
   "source": [
    "# Writing SHA-256 in Python\n",
    "\n",
    "Released by the National Security Agency (NSA), SHA-256 has become an incredibly useful cryptographic function. It has the capability to convert any data into a unique 32-byte string (256 bits respectively). The real magic comes from its following two properties.\n",
    "\n",
    "1. Any change in the incoming data will produce a completely new and unique 32-byte string (if two pieces of data can produce the same string it is called a collision and can be an enormous security problem)\n",
    "2. The original data cannot be reproduced from the hash, therefore the function is one directional. This means the hash can be shared freely without any fear of the original data being \n",
    "\n",
    "<img class=\"image\" src=\"{{ site.url }}/assets/images/sha256/diagram.png\" alt=\"SHA-256 Basics\">\n",
    "\n",
    "How exactly does it do this? Well, lets make our own SHA-256 function to find out!\n",
    "\n",
    "This is pretty easy to start, we just need a function to take in any data that can be converted to binary. In this example we'll limit our data to string values for representation sake. With this we can easily convert teach value to it's unicode code point by using Python's `ord()` function and convert this integer to binary by using Python 3's format function."
   ]
  },
  {
   "cell_type": "code",
   "execution_count": 15,
   "metadata": {
    "collapsed": false,
    "deletable": true,
    "editable": true
   },
   "outputs": [
    {
     "name": "stdout",
     "output_type": "stream",
     "text": [
      "String values: ['a', 'b', 'c']\n",
      "Unicode points: [97, 98, 99]\n",
      "Binary values: ['01100001', '01100010', '01100011']\n",
      "Binary data:  011000010110001001100011\n"
     ]
    }
   ],
   "source": [
    "def _str_to_bin(data_string):\n",
    "    \"\"\"Returns the binary representation of a string\n",
    "    using unicode representation of the str values\n",
    "    \n",
    "    args:\n",
    "        data_string (str): Incoming string to be hashed\n",
    "        \n",
    "    return args:\n",
    "        binary_data (str): Binary representation of the \n",
    "                           string\n",
    "    \"\"\"\n",
    "    print(\"String values:\", list(data_string))\n",
    "    unicode_points = [ord(char) for char in data_string]\n",
    "    print(\"Unicode points:\", unicode_points)\n",
    "    binary_values = ['{0:08b}'.format(point) for point in unicode_points]\n",
    "    print(\"Binary values:\", binary_values)\n",
    "    binary_data = ''.join(binary_values)\n",
    "    print('Binary data: ', binary_data)\n",
    "    return binary_data\n",
    "\n",
    "binary_representation = _str_to_bin('abc')"
   ]
  },
  {
   "cell_type": "markdown",
   "metadata": {
    "collapsed": true,
    "deletable": true,
    "editable": true
   },
   "source": [
    "Now that we have our binary data we need to preprocess it to have it in the correct format for the future SHA-256 functions. This is is achieved with the following three properties.\n",
    "\n",
    "1. A 1 is added to the end of the binary data.\n",
    "2. The length of the binary data (3 x 8 = 24) is appended to the end of the binary blob in a 64 bit number.\n",
    "3. The final 1 and the 64 bit number from 1. and 2. are separated by 0s so that the total length of the binary blob is a multiple of 512.\n",
    "\n",
    "<img class=\"image\" src=\"{{ site.url }}/assets/images/sha256/diagram.png\" alt=\"SHA-256 Basics\">"
   ]
  }
 ],
 "metadata": {
  "kernelspec": {
   "display_name": "Python 3",
   "language": "python",
   "name": "python3"
  },
  "language_info": {
   "codemirror_mode": {
    "name": "ipython",
    "version": 3
   },
   "file_extension": ".py",
   "mimetype": "text/x-python",
   "name": "python",
   "nbconvert_exporter": "python",
   "pygments_lexer": "ipython3",
   "version": "3.5.2"
  }
 },
 "nbformat": 4,
 "nbformat_minor": 2
}
